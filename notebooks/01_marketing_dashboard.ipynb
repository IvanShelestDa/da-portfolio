{
 "cells": [
  {
   "cell_type": "markdown",
   "metadata": {},
   "source": [
    "# Marketing Dashboard (UTM) — Notebook"
   ]
  },
  {
   "cell_type": "code",
   "execution_count": 4,
   "id": "be26ee97",
   "metadata": {},
   "outputs": [
    {
     "name": "stdout",
     "output_type": "stream",
     "text": [
      "Rows: 819  | Path: c:\\Users\\Іван\\Desktop\\da-portfolio\\data\\raw\\marketing_utm_sample.csv\n"
     ]
    },
    {
     "data": {
      "text/html": [
       "<div>\n",
       "<style scoped>\n",
       "    .dataframe tbody tr th:only-of-type {\n",
       "        vertical-align: middle;\n",
       "    }\n",
       "\n",
       "    .dataframe tbody tr th {\n",
       "        vertical-align: top;\n",
       "    }\n",
       "\n",
       "    .dataframe thead th {\n",
       "        text-align: right;\n",
       "    }\n",
       "</style>\n",
       "<table border=\"1\" class=\"dataframe\">\n",
       "  <thead>\n",
       "    <tr style=\"text-align: right;\">\n",
       "      <th></th>\n",
       "      <th>date</th>\n",
       "      <th>utm_source</th>\n",
       "      <th>utm_medium</th>\n",
       "      <th>utm_campaign</th>\n",
       "      <th>sessions</th>\n",
       "      <th>clicks</th>\n",
       "      <th>cost</th>\n",
       "      <th>conversions</th>\n",
       "      <th>revenue</th>\n",
       "    </tr>\n",
       "  </thead>\n",
       "  <tbody>\n",
       "    <tr>\n",
       "      <th>0</th>\n",
       "      <td>2025-04-01</td>\n",
       "      <td>google</td>\n",
       "      <td>cpc</td>\n",
       "      <td>brand</td>\n",
       "      <td>454</td>\n",
       "      <td>379</td>\n",
       "      <td>415.84</td>\n",
       "      <td>25</td>\n",
       "      <td>1200.25</td>\n",
       "    </tr>\n",
       "    <tr>\n",
       "      <th>1</th>\n",
       "      <td>2025-04-01</td>\n",
       "      <td>google</td>\n",
       "      <td>cpc</td>\n",
       "      <td>prospecting</td>\n",
       "      <td>232</td>\n",
       "      <td>128</td>\n",
       "      <td>26.27</td>\n",
       "      <td>19</td>\n",
       "      <td>1103.45</td>\n",
       "    </tr>\n",
       "    <tr>\n",
       "      <th>2</th>\n",
       "      <td>2025-04-01</td>\n",
       "      <td>google</td>\n",
       "      <td>cpc</td>\n",
       "      <td>retargeting</td>\n",
       "      <td>366</td>\n",
       "      <td>330</td>\n",
       "      <td>157.88</td>\n",
       "      <td>10</td>\n",
       "      <td>602.73</td>\n",
       "    </tr>\n",
       "    <tr>\n",
       "      <th>3</th>\n",
       "      <td>2025-04-01</td>\n",
       "      <td>facebook</td>\n",
       "      <td>cpc</td>\n",
       "      <td>prospecting</td>\n",
       "      <td>307</td>\n",
       "      <td>241</td>\n",
       "      <td>288.12</td>\n",
       "      <td>21</td>\n",
       "      <td>1876.09</td>\n",
       "    </tr>\n",
       "    <tr>\n",
       "      <th>4</th>\n",
       "      <td>2025-04-01</td>\n",
       "      <td>facebook</td>\n",
       "      <td>cpc</td>\n",
       "      <td>retargeting</td>\n",
       "      <td>222</td>\n",
       "      <td>197</td>\n",
       "      <td>70.96</td>\n",
       "      <td>6</td>\n",
       "      <td>192.84</td>\n",
       "    </tr>\n",
       "  </tbody>\n",
       "</table>\n",
       "</div>"
      ],
      "text/plain": [
       "         date utm_source utm_medium utm_campaign  sessions  clicks    cost  \\\n",
       "0  2025-04-01     google        cpc        brand       454     379  415.84   \n",
       "1  2025-04-01     google        cpc  prospecting       232     128   26.27   \n",
       "2  2025-04-01     google        cpc  retargeting       366     330  157.88   \n",
       "3  2025-04-01   facebook        cpc  prospecting       307     241  288.12   \n",
       "4  2025-04-01   facebook        cpc  retargeting       222     197   70.96   \n",
       "\n",
       "   conversions  revenue  \n",
       "0           25  1200.25  \n",
       "1           19  1103.45  \n",
       "2           10   602.73  \n",
       "3           21  1876.09  \n",
       "4            6   192.84  "
      ]
     },
     "execution_count": 4,
     "metadata": {},
     "output_type": "execute_result"
    }
   ],
   "source": [
    "from pathlib import Path\n",
    "import pandas as pd\n",
    "\n",
    "base = Path.cwd().parent                      # з notebooks -> в корінь репо\n",
    "csv_path = base / \"data\" / \"raw\" / \"marketing_utm_sample.csv\"\n",
    "\n",
    "df = pd.read_csv(csv_path)\n",
    "\n",
    "# гарантуємо числові типи (інакше буде \"no numeric data to plot\")\n",
    "for col in [\"sessions\",\"clicks\",\"cost\",\"conversions\",\"revenue\"]:\n",
    "    df[col] = pd.to_numeric(df[col], errors=\"coerce\")\n",
    "\n",
    "print(\"Rows:\", len(df), \" | Path:\", csv_path)\n",
    "df.head()\n"
   ]
  },
  {
   "cell_type": "code",
   "execution_count": 5,
   "metadata": {},
   "outputs": [
    {
     "data": {
      "text/html": [
       "<div>\n",
       "<style scoped>\n",
       "    .dataframe tbody tr th:only-of-type {\n",
       "        vertical-align: middle;\n",
       "    }\n",
       "\n",
       "    .dataframe tbody tr th {\n",
       "        vertical-align: top;\n",
       "    }\n",
       "\n",
       "    .dataframe thead th {\n",
       "        text-align: right;\n",
       "    }\n",
       "</style>\n",
       "<table border=\"1\" class=\"dataframe\">\n",
       "  <thead>\n",
       "    <tr style=\"text-align: right;\">\n",
       "      <th></th>\n",
       "      <th>utm_source</th>\n",
       "      <th>sessions</th>\n",
       "      <th>clicks</th>\n",
       "      <th>cost</th>\n",
       "      <th>conversions</th>\n",
       "      <th>revenue</th>\n",
       "      <th>roas</th>\n",
       "    </tr>\n",
       "  </thead>\n",
       "  <tbody>\n",
       "    <tr>\n",
       "      <th>1</th>\n",
       "      <td>facebook</td>\n",
       "      <td>48361</td>\n",
       "      <td>37294</td>\n",
       "      <td>25381.74</td>\n",
       "      <td>2087</td>\n",
       "      <td>125875.45</td>\n",
       "      <td>4.959292</td>\n",
       "    </tr>\n",
       "    <tr>\n",
       "      <th>3</th>\n",
       "      <td>instagram</td>\n",
       "      <td>46535</td>\n",
       "      <td>36303</td>\n",
       "      <td>26692.73</td>\n",
       "      <td>2134</td>\n",
       "      <td>128581.83</td>\n",
       "      <td>4.817111</td>\n",
       "    </tr>\n",
       "    <tr>\n",
       "      <th>2</th>\n",
       "      <td>google</td>\n",
       "      <td>74064</td>\n",
       "      <td>57672</td>\n",
       "      <td>40359.82</td>\n",
       "      <td>3339</td>\n",
       "      <td>192880.25</td>\n",
       "      <td>4.779017</td>\n",
       "    </tr>\n",
       "    <tr>\n",
       "      <th>0</th>\n",
       "      <td>email</td>\n",
       "      <td>50093</td>\n",
       "      <td>38758</td>\n",
       "      <td>0.00</td>\n",
       "      <td>2258</td>\n",
       "      <td>140812.38</td>\n",
       "      <td>&lt;NA&gt;</td>\n",
       "    </tr>\n",
       "  </tbody>\n",
       "</table>\n",
       "</div>"
      ],
      "text/plain": [
       "  utm_source  sessions  clicks      cost  conversions    revenue      roas\n",
       "1   facebook     48361   37294  25381.74         2087  125875.45  4.959292\n",
       "3  instagram     46535   36303  26692.73         2134  128581.83  4.817111\n",
       "2     google     74064   57672  40359.82         3339  192880.25  4.779017\n",
       "0      email     50093   38758      0.00         2258  140812.38      <NA>"
      ]
     },
     "execution_count": 5,
     "metadata": {},
     "output_type": "execute_result"
    }
   ],
   "source": [
    "df[\"conversion_rate\"] = df[\"conversions\"] / df[\"sessions\"]\n",
    "df[\"cpa\"]  = df[\"cost\"] / df[\"conversions\"].replace({0: pd.NA})\n",
    "df[\"roas\"] = df[\"revenue\"] / df[\"cost\"].replace({0: pd.NA})\n",
    "\n",
    "by_source = df.groupby(\"utm_source\", as_index=False).agg(\n",
    "    sessions=(\"sessions\",\"sum\"),\n",
    "    clicks=(\"clicks\",\"sum\"),\n",
    "    cost=(\"cost\",\"sum\"),\n",
    "    conversions=(\"conversions\",\"sum\"),\n",
    "    revenue=(\"revenue\",\"sum\"),\n",
    ")\n",
    "by_source[\"roas\"] = by_source[\"revenue\"] / by_source[\"cost\"].replace({0: pd.NA})\n",
    "by_source.sort_values(\"roas\", ascending=False)\n"
   ]
  },
  {
   "cell_type": "code",
   "execution_count": 9,
   "metadata": {},
   "outputs": [
    {
     "name": "stdout",
     "output_type": "stream",
     "text": [
      "Saved to: c:\\Users\\Іван\\Desktop\\da-portfolio\\reports\\images\n"
     ]
    }
   ],
   "source": [
    "import matplotlib.pyplot as plt\n",
    "import numpy as np\n",
    "from pathlib import Path\n",
    "\n",
    "img_dir = base / \"reports\" / \"images\"\n",
    "img_dir.mkdir(parents=True, exist_ok=True)\n",
    "\n",
    "# 1) ROAS за джерелами (примусово робимо числа)\n",
    "by_source[\"roas\"] = pd.to_numeric(by_source[\"roas\"], errors=\"coerce\")\n",
    "s = by_source.sort_values(\"roas\", ascending=False)\n",
    "\n",
    "fig, ax = plt.subplots()\n",
    "ax.bar(s[\"utm_source\"].astype(str), s[\"roas\"].astype(float))\n",
    "ax.set_title(\"ROAS за джерелами\")\n",
    "ax.set_ylabel(\"дохід / витрати\")\n",
    "fig.tight_layout()\n",
    "fig.savefig(img_dir / \"roas_by_source.png\", dpi=140)\n",
    "plt.close(fig)\n",
    "\n",
    "# 2) CPA за кампаніями\n",
    "by_campaign = df.groupby(\"utm_campaign\", as_index=False).agg(\n",
    "    cost=(\"cost\",\"sum\"),\n",
    "    conversions=(\"conversions\",\"sum\")\n",
    ")\n",
    "by_campaign[\"cpa\"] = by_campaign[\"cost\"] / by_campaign[\"conversions\"].replace({0: np.nan})\n",
    "by_campaign[\"cpa\"] = pd.to_numeric(by_campaign[\"cpa\"], errors=\"coerce\")\n",
    "c = by_campaign.sort_values(\"cpa\")\n",
    "\n",
    "fig, ax = plt.subplots()\n",
    "ax.bar(c[\"utm_campaign\"].astype(str), c[\"cpa\"].astype(float))\n",
    "ax.set_title(\"CPA за кампаніями\")\n",
    "ax.set_ylabel(\"витрати / конверсії\")\n",
    "fig.tight_layout()\n",
    "fig.savefig(img_dir / \"cpa_by_campaign.png\", dpi=140)\n",
    "plt.close(fig)\n",
    "\n",
    "print(\"Saved to:\", img_dir)\n"
   ]
  },
  {
   "cell_type": "code",
   "execution_count": 10,
   "id": "abbc69d6",
   "metadata": {},
   "outputs": [
    {
     "data": {
      "image/png": "[encoded data removed]",
      "text/plain": [
       "<IPython.core.display.Image object>"
      ]
     },
     "metadata": {},
     "output_type": "display_data"
    },
    {
     "data": {
      "image/png": "[encoded data removed]",
      "text/plain": [
       "<IPython.core.display.Image object>"
      ]
     },
     "metadata": {},
     "output_type": "display_data"
    }
   ],
   "source": [
    "from IPython.display import Image, display\n",
    "from pathlib import Path\n",
    "base = Path.cwd().parent\n",
    "display(Image(filename=str(base / \"reports/images/roas_by_source.png\")))\n",
    "display(Image(filename=str(base / \"reports/images/cpa_by_campaign.png\")))"
   ]
  }
 ],
 "metadata": {
  "kernelspec": {
   "display_name": ".venv",
   "language": "python",
   "name": "python3"
  },
  "language_info": {
   "codemirror_mode": {
    "name": "ipython",
    "version": 3
   },
   "file_extension": ".py",
   "mimetype": "text/x-python",
   "name": "python",
   "nbconvert_exporter": "python",
   "pygments_lexer": "ipython3",
   "version": "3.12.2"
  }
 },
 "nbformat": 4,
 "nbformat_minor": 5
}
